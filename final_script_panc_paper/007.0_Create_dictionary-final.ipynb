{
 "cells": [
  {
   "cell_type": "markdown",
   "id": "53ebc388-25c7-4820-8d61-b07caa97d659",
   "metadata": {},
   "source": [
    "# Translate gene IDs"
   ]
  },
  {
   "cell_type": "markdown",
   "id": "6cb0de90-706f-4c41-a8ec-60f56eb1df9e",
   "metadata": {},
   "source": [
    "## Mygene"
   ]
  },
  {
   "cell_type": "code",
   "execution_count": 4,
   "id": "973dce9a-45f9-4501-91f6-da1379c4801f",
   "metadata": {},
   "outputs": [
    {
     "name": "stdout",
     "output_type": "stream",
     "text": [
      "Querying MyGene.info...\n",
      "\n",
      "Results from MyGene.info:\n",
      "Ensembl ID: ENSG00000141510\n",
      "  Symbol: TP53\n",
      "  Entrez Gene ID: 7157\n",
      "  UniProt ID: P04637\n",
      "----------------------------------------\n",
      "Ensembl ID: ENSG00000139618\n",
      "  Symbol: BRCA2\n",
      "  Entrez Gene ID: 675\n",
      "  UniProt ID: P51587\n",
      "----------------------------------------\n"
     ]
    }
   ],
   "source": [
    "import mygene\n",
    "\n",
    "# Initialize the MyGene.info client\n",
    "mg = mygene.MyGeneInfo()\n",
    "\n",
    "# Query example: Convert Ensembl Gene IDs to other types\n",
    "query = ['ENSG00000141510', 'ENSG00000139618']  # Example Ensembl Gene IDs (TP53, BRCA2)\n",
    "\n",
    "# Query MyGene.info for mappings\n",
    "print(\"Querying MyGene.info...\")\n",
    "results = mg.querymany(\n",
    "    query, \n",
    "    scopes='ensembl.gene', \n",
    "    fields='symbol,entrezgene,uniprot', \n",
    "    species='human'\n",
    ")\n",
    "\n",
    "# Display the results\n",
    "print(\"\\nResults from MyGene.info:\")\n",
    "for res in results:\n",
    "    print(f\"Ensembl ID: {res.get('query')}\")\n",
    "    print(f\"  Symbol: {res.get('symbol')}\")\n",
    "    print(f\"  Entrez Gene ID: {res.get('entrezgene')}\")\n",
    "    print(f\"  UniProt ID: {res.get('uniprot', {}).get('Swiss-Prot')}\")\n",
    "    print(\"-\" * 40)\n"
   ]
  },
  {
   "cell_type": "code",
   "execution_count": null,
   "id": "94a43766-34cb-4371-8bec-dce6ae99efe3",
   "metadata": {},
   "outputs": [],
   "source": []
  },
  {
   "cell_type": "markdown",
   "id": "0be4e973-19ec-4df1-8a95-48b9e941b409",
   "metadata": {},
   "source": [
    "### Example with adata file"
   ]
  },
  {
   "cell_type": "code",
   "execution_count": 5,
   "id": "246a483e-4161-4bc1-a41f-57a8c41f745f",
   "metadata": {},
   "outputs": [],
   "source": [
    "import pandas as pd\n",
    "import numpy as np\n",
    "import anndata as ad\n",
    "import mygene"
   ]
  },
  {
   "cell_type": "code",
   "execution_count": 8,
   "id": "fb94f0f7-fd35-441f-a0e2-ae647a62de4a",
   "metadata": {},
   "outputs": [
    {
     "data": {
      "text/plain": [
       "Index(['ENSG00000187608', 'ENSG00000224969', 'ENSG00000184163',\n",
       "       'ENSG00000142609', 'ENSG00000287586', 'ENSG00000049246',\n",
       "       'ENSG00000238290', 'ENSG00000204624', 'ENSG00000117122',\n",
       "       'ENSG00000117115',\n",
       "       ...\n",
       "       'ENSG00000013619', 'ENSG00000029993', 'ENSG00000011677',\n",
       "       'ENSG00000198883', 'ENSG00000182492', 'ENSG00000067842',\n",
       "       'ENSG00000130821', 'ENSG00000198910', 'ENSG00000099721',\n",
       "       'ENSG00000198899'],\n",
       "      dtype='object', name='feature_id', length=1992)"
      ]
     },
     "execution_count": 8,
     "metadata": {},
     "output_type": "execute_result"
    }
   ],
   "source": [
    "# Load the adata file\n",
    "adata = ad.read_h5ad(\"/storage/users/data/PANC/H5AD_file/adata_filtered_no2D_hvg_clust_time_pub.h5ad\")\n",
    "adata.var_names"
   ]
  },
  {
   "cell_type": "code",
   "execution_count": 9,
   "id": "27e5b31b-eae7-4519-ae52-ec6334c358af",
   "metadata": {},
   "outputs": [
    {
     "name": "stdout",
     "output_type": "stream",
     "text": [
      "Querying MyGene.info...\n"
     ]
    },
    {
     "name": "stderr",
     "output_type": "stream",
     "text": [
      "3 input query terms found dup hits:\t[('ENSG00000227110', 2), ('ENSG00000226519', 2), ('ENSG00000262352', 3)]\n",
      "34 input query terms found no hit:\t['ENSG00000286863', 'ENSG00000275557', 'ENSG00000231877', 'ENSG00000233005', 'ENSG00000237838', 'ENS\n"
     ]
    },
    {
     "name": "stdout",
     "output_type": "stream",
     "text": [
      "Processing results...\n",
      "\n",
      "Sample mappings:\n",
      "Ensembl to Gene Symbol: [('ENSG00000187608', 'ISG15'), ('ENSG00000224969', None), ('ENSG00000184163', 'C1QTNF12'), ('ENSG00000142609', 'CFAP74'), ('ENSG00000287586', None)]\n",
      "Ensembl to Entrez Gene ID: [('ENSG00000187608', '9636'), ('ENSG00000224969', None), ('ENSG00000184163', '388581'), ('ENSG00000142609', '85452'), ('ENSG00000287586', None)]\n",
      "Ensembl to UniProt ID: [('ENSG00000187608', 'P05161'), ('ENSG00000224969', None), ('ENSG00000184163', 'Q5T7M4'), ('ENSG00000142609', 'Q9C0B2'), ('ENSG00000287586', None)]\n"
     ]
    }
   ],
   "source": [
    "# Extract Ensembl Gene IDs\n",
    "ensembl_ids = adata.var_names.tolist()\n",
    "\n",
    "# Initialize MyGene.info client\n",
    "mg = mygene.MyGeneInfo()\n",
    "\n",
    "# Query MyGene.info for mappings\n",
    "print(\"Querying MyGene.info...\")\n",
    "results = mg.querymany(\n",
    "    ensembl_ids,\n",
    "    scopes=\"ensembl.gene\",\n",
    "    fields=\"symbol,entrezgene,uniprot\",\n",
    "    species=\"human\"\n",
    ")\n",
    "\n",
    "# Create dictionaries for mappings\n",
    "ensembl_to_symbol = {}\n",
    "ensembl_to_entrez = {}\n",
    "ensembl_to_uniprot = {}\n",
    "\n",
    "# Populate dictionaries\n",
    "print(\"Processing results...\")\n",
    "for res in results:\n",
    "    ensembl_id = res.get(\"query\")\n",
    "    if \"notfound\" in res:\n",
    "        continue  # Skip if not found\n",
    "    if ensembl_id:\n",
    "        ensembl_to_symbol[ensembl_id] = res.get(\"symbol\")\n",
    "        ensembl_to_entrez[ensembl_id] = res.get(\"entrezgene\")\n",
    "        uniprot = res.get(\"uniprot\", {}).get(\"Swiss-Prot\")  # Get Swiss-Prot ID\n",
    "        ensembl_to_uniprot[ensembl_id] = uniprot\n",
    "\n",
    "# Display dictionary samples\n",
    "print(\"\\nSample mappings:\")\n",
    "print(\"Ensembl to Gene Symbol:\", list(ensembl_to_symbol.items())[:15])\n",
    "print(\"Ensembl to Entrez Gene ID:\", list(ensembl_to_entrez.items())[:15])\n",
    "print(\"Ensembl to UniProt ID:\", list(ensembl_to_uniprot.items())[:15])\n"
   ]
  },
  {
   "cell_type": "code",
   "execution_count": 13,
   "id": "7ce829c5-ce7a-4d61-9857-ae33a96c081a",
   "metadata": {},
   "outputs": [
    {
     "name": "stdout",
     "output_type": "stream",
     "text": [
      "Querying MyGene.info...\n"
     ]
    },
    {
     "name": "stderr",
     "output_type": "stream",
     "text": [
      "3 input query terms found dup hits:\t[('ENSG00000227110', 2), ('ENSG00000226519', 2), ('ENSG00000262352', 3)]\n",
      "34 input query terms found no hit:\t['ENSG00000286863', 'ENSG00000275557', 'ENSG00000231877', 'ENSG00000233005', 'ENSG00000237838', 'ENS\n"
     ]
    },
    {
     "name": "stdout",
     "output_type": "stream",
     "text": [
      "Processing results...\n",
      "\n",
      "Sample mappings:\n",
      "Ensembl to Gene Symbol: [('ENSG00000187608', 'ISG15'), ('ENSG00000224969', 'ENSG00000224969'), ('ENSG00000184163', 'C1QTNF12'), ('ENSG00000142609', 'CFAP74'), ('ENSG00000287586', 'ENSG00000287586')]\n",
      "Ensembl to Entrez Gene ID: [('ENSG00000187608', '9636'), ('ENSG00000224969', 'ENSG00000224969'), ('ENSG00000184163', '388581'), ('ENSG00000142609', '85452'), ('ENSG00000287586', 'ENSG00000287586')]\n",
      "Ensembl to UniProt ID: [('ENSG00000187608', 'P05161'), ('ENSG00000224969', 'ENSG00000224969'), ('ENSG00000184163', 'Q5T7M4'), ('ENSG00000142609', 'Q9C0B2'), ('ENSG00000287586', 'ENSG00000287586')]\n",
      "\n",
      "Summary:\n",
      "Total Ensembl IDs: 1992\n",
      "Matched IDs: 1962\n",
      "Unmatched IDs: 34\n"
     ]
    }
   ],
   "source": [
    "# Extract Ensembl Gene IDs\n",
    "ensembl_ids = adata.var_names.tolist()\n",
    "\n",
    "# Initialize MyGene.info client\n",
    "mg = mygene.MyGeneInfo()\n",
    "\n",
    "# Query MyGene.info for mappings\n",
    "print(\"Querying MyGene.info...\")\n",
    "results = mg.querymany(\n",
    "    ensembl_ids,\n",
    "    scopes=\"ensembl.gene\",\n",
    "    fields=\"symbol,entrezgene,uniprot\",\n",
    "    species=\"human\"\n",
    ")\n",
    "\n",
    "# Create dictionaries for mappings\n",
    "ensembl_to_symbol = {}\n",
    "ensembl_to_entrez = {}\n",
    "ensembl_to_uniprot = {}\n",
    "\n",
    "# Counters for matched and unmatched IDs\n",
    "matched_count = 0\n",
    "unmatched_count = 0\n",
    "\n",
    "# Populate dictionaries\n",
    "print(\"Processing results...\")\n",
    "for res in results:\n",
    "    ensembl_id = res.get(\"query\")\n",
    "    if \"notfound\" in res:\n",
    "        # If not found, use Ensembl ID as a fallback\n",
    "        ensembl_to_symbol[ensembl_id] = ensembl_id\n",
    "        ensembl_to_entrez[ensembl_id] = ensembl_id\n",
    "        ensembl_to_uniprot[ensembl_id] = ensembl_id\n",
    "        unmatched_count += 1\n",
    "        continue\n",
    "\n",
    "    # Populate dictionaries with retrieved or fallback values\n",
    "    ensembl_to_symbol[ensembl_id] = res.get(\"symbol\", ensembl_id)\n",
    "    ensembl_to_entrez[ensembl_id] = res.get(\"entrezgene\", ensembl_id)\n",
    "    uniprot = res.get(\"uniprot\", {}).get(\"Swiss-Prot\", ensembl_id)\n",
    "    ensembl_to_uniprot[ensembl_id] = uniprot\n",
    "    matched_count += 1\n",
    "\n",
    "# Display dictionary samples\n",
    "print(\"\\nSample mappings:\")\n",
    "print(\"Ensembl to Gene Symbol:\", list(ensembl_to_symbol.items())[:5])\n",
    "print(\"Ensembl to Entrez Gene ID:\", list(ensembl_to_entrez.items())[:5])\n",
    "print(\"Ensembl to UniProt ID:\", list(ensembl_to_uniprot.items())[:5])\n",
    "\n",
    "# Print summary of matches\n",
    "total_ids = len(ensembl_ids)\n",
    "print(f\"\\nSummary:\")\n",
    "print(f\"Total Ensembl IDs: {total_ids}\")\n",
    "print(f\"Matched IDs: {matched_count}\")\n",
    "print(f\"Unmatched IDs: {unmatched_count}\")\n"
   ]
  },
  {
   "cell_type": "markdown",
   "id": "8b496dca-217d-4088-8e9b-10ebbd007157",
   "metadata": {},
   "source": [
    "## Other ID conversion tools"
   ]
  },
  {
   "cell_type": "markdown",
   "id": "4f1997d4-6c7a-4515-8196-b4b27d03d9ca",
   "metadata": {},
   "source": [
    "### Entrez"
   ]
  },
  {
   "cell_type": "code",
   "execution_count": 2,
   "id": "bcfff201-8ed2-4abc-af7b-f94ef84d58c9",
   "metadata": {},
   "outputs": [
    {
     "name": "stdout",
     "output_type": "stream",
     "text": [
      "Searching Entrez for term: TP53[Gene Name] AND human[Organism]\n",
      "Entrez Gene IDs for TP53: ['7157']\n"
     ]
    }
   ],
   "source": [
    "from Bio import Entrez\n",
    "# Set your email for NCBI Entrez queries\n",
    "Entrez.email = \"your_email@example.com\"\n",
    "\n",
    "# Function to search for a gene using NCBI Entrez\n",
    "def search_entrez_gene(term):\n",
    "    print(f\"Searching Entrez for term: {term}\")\n",
    "    handle = Entrez.esearch(db=\"gene\", term=term, retmax=5)\n",
    "    record = Entrez.read(handle)\n",
    "    handle.close()\n",
    "    return record[\"IdList\"]\n",
    "\n",
    "# Search for TP53 gene in humans\n",
    "entrez_ids = search_entrez_gene(\"TP53[Gene Name] AND human[Organism]\")\n",
    "print(f\"Entrez Gene IDs for TP53: {entrez_ids}\")"
   ]
  },
  {
   "cell_type": "markdown",
   "id": "d8bba603-6a4c-449e-82e1-05fad946cba0",
   "metadata": {},
   "source": [
    "### Expasy and Swissport "
   ]
  },
  {
   "cell_type": "code",
   "execution_count": 3,
   "id": "8febfe72-101f-4ed4-97d5-50a952bf9bd1",
   "metadata": {},
   "outputs": [
    {
     "name": "stdout",
     "output_type": "stream",
     "text": [
      "\n",
      "Fetching SwissProt record for UniProt ID: P04637\n",
      "Description: RecName: Full=Cellular tumor antigen p53; AltName: Full=Antigen NY-CO-13; AltName: Full=Phosphoprotein p53; AltName: Full=Tumor suppressor p53;\n",
      "Gene Names: [{'Name': 'TP53', 'Synonyms': ['P53']}]\n",
      "Organism: Homo sapiens (Human).\n",
      "Keywords: ['3D-structure', 'Acetylation', 'Activator', 'Alternative promoter usage', 'Alternative splicing', 'Apoptosis', 'Biological rhythms', 'Cell cycle', 'Cytoplasm', 'Cytoskeleton', 'Direct protein sequencing', 'Disease variant', 'DNA-binding', 'Endoplasmic reticulum', 'Glycoprotein', 'Host-virus interaction', 'Isopeptide bond', 'Li-Fraumeni syndrome', 'Metal-binding', 'Methylation', 'Mitochondrion', 'Necrosis', 'Nucleus', 'Phosphoprotein', 'Proteomics identification', 'Reference proteome', 'Repressor', 'Transcription', 'Transcription regulation', 'Tumor suppressor', 'Ubl conjugation', 'Zinc']\n"
     ]
    }
   ],
   "source": [
    "from Bio import ExPASy\n",
    "from Bio import SwissProt\n",
    "\n",
    "\n",
    "# Using ExPASy and SwissProt to fetch protein details\n",
    "def fetch_swissprot_record(uniprot_id):\n",
    "    print(f\"\\nFetching SwissProt record for UniProt ID: {uniprot_id}\")\n",
    "    try:\n",
    "        handle = ExPASy.get_sprot_raw(uniprot_id)\n",
    "        record = SwissProt.read(handle)\n",
    "        handle.close()\n",
    "        return record\n",
    "    except Exception as e:\n",
    "        print(f\"Error fetching record: {e}\")\n",
    "        return None\n",
    "\n",
    "# Example UniProt ID for TP53\n",
    "uniprot_id = \"P04637\"  # UniProt ID for TP53\n",
    "record = fetch_swissprot_record(uniprot_id)\n",
    "if record:\n",
    "    print(f\"Description: {record.description}\")\n",
    "    print(f\"Gene Names: {record.gene_name}\")\n",
    "    print(f\"Organism: {record.organism}\")\n",
    "    print(f\"Keywords: {record.keywords}\")\n",
    "\n",
    "\n"
   ]
  }
 ],
 "metadata": {
  "kernelspec": {
   "display_name": "Python (secondenv_clone)",
   "language": "python",
   "name": "secondenv_clone"
  },
  "language_info": {
   "codemirror_mode": {
    "name": "ipython",
    "version": 3
   },
   "file_extension": ".py",
   "mimetype": "text/x-python",
   "name": "python",
   "nbconvert_exporter": "python",
   "pygments_lexer": "ipython3",
   "version": "3.9.18"
  }
 },
 "nbformat": 4,
 "nbformat_minor": 5
}
