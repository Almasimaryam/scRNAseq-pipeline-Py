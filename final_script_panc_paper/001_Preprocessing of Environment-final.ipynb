{
 "cells": [
  {
   "cell_type": "markdown",
   "id": "a8ef86fa-d83e-4c63-8fe2-77896ef028d1",
   "metadata": {
    "editable": true,
    "slideshow": {
     "slide_type": ""
    },
    "tags": []
   },
   "source": [
    "# Python conda environment management"
   ]
  },
  {
   "cell_type": "markdown",
   "id": "7e2fb04c-f073-4360-85c1-7e298440566a",
   "metadata": {},
   "source": [
    "To ensure that packages are installed in the correct environment, it is essential that the terminal and Jupyter Notebook environments are consistent. Any mismatch can lead to issues where packages appear installed in one environment but are unavailable in the other.\n"
   ]
  },
  {
   "cell_type": "markdown",
   "id": "ff45eed7-5ba7-4462-8c5d-52de9c4ce3e3",
   "metadata": {},
   "source": [
    "## Ensuring Packages Installed in the Terminal are Available in Jupyter Notebook"
   ]
  },
  {
   "cell_type": "raw",
   "id": "72b63837-8685-4bd5-89ea-5a1d34baff71",
   "metadata": {},
   "source": [
    "This guide provides a comprehensive walkthrough for managing Python environments with Conda and ensuring packages installed via the terminal are seamlessly available in Jupyter Notebook. Additionally, it includes steps for installing Conda, initializing it, creating environments, and making them accessible in JupyterHub."
   ]
  },
  {
   "cell_type": "raw",
   "id": "5cb2923e-a1df-4c84-9c55-46456df43ce9",
   "metadata": {},
   "source": [
    "!!Note: use terminal not notebook"
   ]
  },
  {
   "cell_type": "code",
   "execution_count": null,
   "id": "2b142802-de9b-46a9-8976-71fbaffd585b",
   "metadata": {},
   "outputs": [],
   "source": [
    "# Download Miniconda or Anaconda:\n",
    "curl -O https://repo.anaconda.com/miniconda/Miniconda3-latest-Linux-x86_64.sh\n",
    "bash Miniconda3-latest-MacOSX-x86_64.sh\n",
    "# !!Replace the filename with the one you downloaded.\n",
    "# Follow the prompts to complete the installation.\n"
   ]
  },
  {
   "cell_type": "code",
   "execution_count": null,
   "id": "3b40f489-dca1-4c78-a490-6d9d776e8744",
   "metadata": {
    "editable": true,
    "slideshow": {
     "slide_type": ""
    },
    "tags": []
   },
   "outputs": [],
   "source": [
    "# Install Conda (if not already installed)\n",
    "conda init\n",
    "\n",
    "# Create a new environment\n",
    "conda create --name scAnalysis python=3.6\n",
    "\n",
    "# Activate the environment\n",
    "conda activate scAnalysis\n",
    "\n",
    "# Install required packages, e.g. https://anaconda.org/anaconda/numpy\n",
    "conda install PACKAGENAME\n",
    "...\n",
    "conda install ipykernel\n",
    "\n",
    "# Add the environment to Jupyter\n",
    "python -m ipykernel install --user --name scAnalysis --display-name \"Python (scAnalysis)\"\n",
    "\n",
    "# Restart the server, open Jupyter, and select the new kernel\n"
   ]
  }
 ],
 "metadata": {
  "kernelspec": {
   "display_name": "Python (secondenv_clone)",
   "language": "python",
   "name": "secondenv_clone"
  },
  "language_info": {
   "codemirror_mode": {
    "name": "ipython",
    "version": 3
   },
   "file_extension": ".py",
   "mimetype": "text/x-python",
   "name": "python",
   "nbconvert_exporter": "python",
   "pygments_lexer": "ipython3",
   "version": "3.9.18"
  }
 },
 "nbformat": 4,
 "nbformat_minor": 5
}
