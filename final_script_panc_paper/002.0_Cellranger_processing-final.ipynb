{
 "cells": [
  {
   "cell_type": "markdown",
   "id": "91e6e203-f6b2-49e8-83a0-2f20a060eb3a",
   "metadata": {},
   "source": [
    "# Process Single Cell 10x (GEX, Multiplex) Fastq files with cellrnager "
   ]
  },
  {
   "cell_type": "markdown",
   "id": "5103de79-f31b-4b17-ab51-5fe8dddf15c3",
   "metadata": {},
   "source": [
    "This notebook outlines the processing of single-cell sequencing data using Cell Ranger. \n",
    "It includes the setup of the reference genome and sample information, followed by the \n",
    "execution of the `cellranger multi` command for read mapping and counting.\n",
    "\n",
    "**Pipeline Overview**:\n",
    "1. Read mapping to references genome and counting, using a cellrnager config file\n",
    "2. (optional) Cellranger aggregate to aggregate results\n",
    "\n",
    "---\n"
   ]
  },
  {
   "cell_type": "raw",
   "id": "94e14f7c-c873-4819-a9cb-1a8303f82fb1",
   "metadata": {},
   "source": [
    "#Documentation https://support.10xgenomics.com"
   ]
  },
  {
   "cell_type": "raw",
   "id": "ab349c6b-a64a-441f-8a10-b785a525f64f",
   "metadata": {},
   "source": [
    "# !!Note: you may have to change pathway here and there"
   ]
  },
  {
   "cell_type": "markdown",
   "id": "a8fcefc8-03e2-4e1f-b06a-d1612b9f42fa",
   "metadata": {},
   "source": [
    "## Cellranger: process fastq files"
   ]
  },
  {
   "cell_type": "raw",
   "id": "5c866d44-09d7-49bf-af0f-0642322f2895",
   "metadata": {},
   "source": [
    "## Cellranger: process fastq files (readmapping and counting) from the 10 x single cell machine, using a supporting file (cellRanger_PDAC_v3.csv), refeseq reference genome"
   ]
  },
  {
   "cell_type": "markdown",
   "id": "250b584c-d12b-4396-9e6e-b7d907513d90",
   "metadata": {},
   "source": [
    "### Process each fastq individual"
   ]
  },
  {
   "cell_type": "code",
   "execution_count": null,
   "id": "158d2b8f-b960-4f3f-b1be-5c006cccf704",
   "metadata": {},
   "outputs": [],
   "source": [
    "# Example: cellranger to form feature counts\n",
    "cellranger count --id=sample1 --transcriptome=refdata-gex-GRCh38-2020-A --fastqs=/path/to/sample1/fastq/folder\n",
    "cellranger count --id=sample2 --transcriptome=refdata-gex-GRCh38-2020-A --fastqs=/path/to/sample2/fastq/folder\n",
    "# Repeat the above command for each sample, adjusting the sample name and fastq folder path"
   ]
  },
  {
   "cell_type": "markdown",
   "id": "569a6fbe-3d41-4116-8a6c-a25ccca33964",
   "metadata": {},
   "source": [
    "### Process all fastq using a cellranger_config.csv"
   ]
  },
  {
   "cell_type": "raw",
   "id": "0fd29a34-e46e-41b4-b563-19bbb1c38dff",
   "metadata": {},
   "source": [
    "# exmaple"
   ]
  },
  {
   "cell_type": "code",
   "execution_count": null,
   "id": "6c1e4728-3bf6-41ef-92e6-dacd0560a798",
   "metadata": {},
   "outputs": [],
   "source": [
    "cellranger multi --id=cellranger_output --csv=/path/to/cellranger_config.csv"
   ]
  },
  {
   "cell_type": "raw",
   "id": "dee161b5-cd5d-4881-9cc3-a08828e7ed9d",
   "metadata": {},
   "source": [
    "# how we use it "
   ]
  },
  {
   "cell_type": "code",
   "execution_count": null,
   "id": "20d8ee5d-971b-4983-b359-d78cf99ae864",
   "metadata": {},
   "outputs": [],
   "source": [
    "/artemis/software/cellranger/bin/cellranger multi --localcores 90 --id=cellranger_output --csv=./cellRanger_PDAC_v3.csv"
   ]
  },
  {
   "cell_type": "markdown",
   "id": "0d1284c6-35dc-4558-8d74-6bf23c45b614",
   "metadata": {},
   "source": [
    "####  cellRanger_PDAC_v3.csv"
   ]
  },
  {
   "cell_type": "code",
   "execution_count": null,
   "id": "fe26f408-f4c8-4dd4-9206-d401581cd47d",
   "metadata": {},
   "outputs": [],
   "source": [
    "#bash\n",
    "less /storage/users/data/PANC/cellranger/cellRanger_PDAC_v3.csv"
   ]
  },
  {
   "cell_type": "raw",
   "id": "7ea15234-251e-4a52-b0b7-f3d1c5a700e1",
   "metadata": {},
   "source": [
    "[gene-expression]\n",
    "reference,/storage/users/data/PANC/cellranger/refdata-gex-GRCh38-2020-A\n",
    "\n",
    "[libraries]\n",
    "fastq_id,fastqs,lanes,feature_types\n",
    "SCC0019_Dandekar_CP_C2,/storage/users/data/PANC/cellranger/SCC0019_Dandekar_CP_C2_S2,any,Multiplexing Capture\n",
    "SCC0019_Dandekar_GEX_H3,/storage/users/data/PANC/cellranger/SCC0019_Dandekar_GEX_H3_S1,any,Gene Expression\n",
    "\n",
    "[samples]\n",
    "sample_id,cmo_ids\n",
    "CTRL_1,CMO301\n",
    "CTRL_2,CMO302\n",
    "GEM_2,CMO304\n",
    "TGFb1_1,CMO305\n",
    "TGFb1_2,CMO306\n",
    "TGFb1_GEM_1,CMO307\n",
    "TGFb1_GEM_2,CMO308\n",
    "CTRL_2D,CMO309"
   ]
  },
  {
   "cell_type": "markdown",
   "id": "3c5bf7d3-549f-4812-af5d-f101d557b828",
   "metadata": {},
   "source": [
    "## Cellranger aggregate "
   ]
  },
  {
   "cell_type": "raw",
   "id": "c48853b6-60e1-4edb-9ac9-8dc3a8864d5b",
   "metadata": {},
   "source": [
    "## optional: counts we can access from above and can aggregate to our own cookbook as shown in script 022.1_Load_and_create_H5ad... or we use aggregate to produce a single had file."
   ]
  },
  {
   "cell_type": "markdown",
   "id": "435e567b-7a63-42dc-86e9-6056a93e4027",
   "metadata": {},
   "source": [
    "### cellranger_aggr_commands.txt"
   ]
  },
  {
   "cell_type": "raw",
   "id": "c6c48de4-0c43-46f2-9a62-e2fbb0344aaf",
   "metadata": {},
   "source": [
    "#bash\n",
    "less /storage/users/data/PANC/cellranger/cellranger_aggr_commands.txt"
   ]
  },
  {
   "cell_type": "code",
   "execution_count": null,
   "id": "5c4cca9e-8eb8-4832-bda9-32043d5e991b",
   "metadata": {},
   "outputs": [],
   "source": [
    "#example command\n",
    "cellranger aggr --id=OUTPUT_DIR --csv=SAMPLE_CSV --normalize=METHOD\n",
    "\n",
    "#used commadn\n",
    "/artemis/software/cellranger/bin/cellranger aggr --localcores 90 --id=\"./res_aggr\" --csv=\"cellRanger_aggr.csv\" --normalize=\"mapped\""
   ]
  },
  {
   "cell_type": "markdown",
   "id": "0d8b2793-b248-4067-bd88-84c549df0be4",
   "metadata": {},
   "source": [
    "#### cellRanger_aggr.csv"
   ]
  },
  {
   "cell_type": "raw",
   "id": "7e553d33-633d-47a8-ad70-93d46e89340b",
   "metadata": {},
   "source": [
    "#bash\n",
    "less /storage/users/data/PANC/cellranger_outs/cellRanger_aggr.csv"
   ]
  },
  {
   "cell_type": "raw",
   "id": "f0513db6-83b9-4b38-bc76-3607ab8e15f0",
   "metadata": {},
   "source": [
    "sample_id, molecule_h5\n",
    "CTRL_1,/storage/users/data/PANC/cellranger_outs/outs/per_sample_outs/CTRL_1/count/sample_molecule_info.h5\n",
    "CTRL_2,/storage/users/data/PANC/cellranger_outs/outs/per_sample_outs/CTRL_2/count/sample_molecule_info.h5\n",
    "GEM_2,/storage/users/data/PANC/cellranger_outs/outs/per_sample_outs/GEM_2/count/sample_molecule_info.h5\n",
    "TGFb1_1,/storage/users/data/PANC/cellranger_outs/outs/per_sample_outs/TGFb1_1/count/sample_molecule_info.h5\n",
    "TGFb1_2,/storage/users/data/PANC/cellranger_outs/outs/per_sample_outs/TGFb1_2/count/sample_molecule_info.h5\n",
    "TGFb1_GEM_1,/storage/users/data/PANC/cellranger_outs/outs/per_sample_outs/TGFb1_GEM_1/count/sample_molecule_info.h5\n",
    "TGFb1_GEM_2,/storage/users/data/PANC/cellranger_outs/outs/per_sample_outs/TGFb1_GEM_2/count/sample_molecule_info.h5\n",
    "CTRL_2D,/storage/users/data/PANC/cellranger_outs/outs/per_sample_outs/CTRL_2D/count/sample_molecule_info.h5"
   ]
  },
  {
   "cell_type": "code",
   "execution_count": null,
   "id": "9f3b392e-ae8f-4f10-a012-3c9d6c0aee0b",
   "metadata": {},
   "outputs": [],
   "source": []
  }
 ],
 "metadata": {
  "kernelspec": {
   "display_name": "Python (secondenv_clone)",
   "language": "python",
   "name": "secondenv_clone"
  },
  "language_info": {
   "codemirror_mode": {
    "name": "ipython",
    "version": 3
   },
   "file_extension": ".py",
   "mimetype": "text/x-python",
   "name": "python",
   "nbconvert_exporter": "python",
   "pygments_lexer": "ipython3",
   "version": "3.9.18"
  }
 },
 "nbformat": 4,
 "nbformat_minor": 5
}
